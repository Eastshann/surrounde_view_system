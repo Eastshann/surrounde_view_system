{
 "cells": [
  {
   "cell_type": "code",
   "id": "initial_id",
   "metadata": {
    "collapsed": true,
    "jupyter": {
     "is_executing": true
    }
   },
   "source": [
    "from camera_thread import *\n",
    "from camera import FishEyeCamera"
   ],
   "outputs": [],
   "execution_count": null
  },
  {
   "metadata": {
    "ExecuteTime": {
     "end_time": "2025-08-04T09:01:42.342335Z",
     "start_time": "2025-08-04T09:01:42.327400Z"
    }
   },
   "cell_type": "code",
   "source": [
    "#-------------------------------------------------------------------------------\n",
    "# 相机模型\n",
    "front = FishEyeCamera(\"../cfgs/camera.yaml\",\"front\")\n",
    "back = FishEyeCamera(\"../cfgs/camera.yaml\",\"back\")"
   ],
   "id": "6daa016482c05d3e",
   "outputs": [],
   "execution_count": 4
  },
  {
   "metadata": {
    "ExecuteTime": {
     "end_time": "2025-08-04T09:01:54.841386Z",
     "start_time": "2025-08-04T09:01:53.534348Z"
    }
   },
   "cell_type": "code",
   "source": [
    "#-------------------------------------------------------------------------------\n",
    "# 捕获线程\n",
    "front_capture_td = CameraCaptureThread(\"front\")\n",
    "back_capture_td = CameraCaptureThread(\"back\")"
   ],
   "id": "14fda0936815175c",
   "outputs": [
    {
     "name": "stdout",
     "output_type": "stream",
     "text": [
      "✓ 码流配置: 辅码流 - 低码率辅码流，适用于网络传输和移动设备预览\n",
      "\n",
      "=== 当前码流信息 ===\n",
      "码流类型: 辅码流\n",
      "描述: 低码率辅码流，适用于网络传输和移动设备预览\n",
      "通道: 0\n",
      "运行状态: 已停止\n",
      "相机地址: 192.168.110.11:37777\n",
      "==============================\n",
      "✓ SDK初始化成功\n",
      "正在连接相机 192.168.110.11:37777...\n",
      "✓ 登录成功! 通道数: 1\n",
      "正在启动视频流...\n",
      "通道: 0, 码流: 辅码流\n",
      "获取播放端口: 101\n",
      "✓ 混合模式启动成功 - 辅码流\n",
      "✓ 码流配置: 辅码流 - 低码率辅码流，适用于网络传输和移动设备预览\n",
      "\n",
      "=== 当前码流信息 ===\n",
      "码流类型: 辅码流\n",
      "描述: 低码率辅码流，适用于网络传输和移动设备预览\n",
      "通道: 0\n",
      "运行状态: 已停止\n",
      "相机地址: 192.168.110.12:37777\n",
      "==============================\n",
      "✓ SDK初始化成功\n",
      "正在连接相机 192.168.110.12:37777...\n",
      "640 480\n",
      "640 480\n",
      "640 480\n",
      "✓ 登录成功! 通道数: 1\n",
      "正在启动视频流...\n",
      "通道: 0, 码流: 辅码流\n",
      "获取播放端口: 102\n",
      "640 480\n",
      "640 480\n",
      "640 480\n",
      "640 480\n",
      "640 480\n",
      "640 480\n",
      "FPS: 8.7\n",
      "640 480\n",
      "640 480\n",
      "640 480\n",
      "✓ 混合模式启动成功 - 辅码流\n"
     ]
    }
   ],
   "execution_count": 5
  }
 ],
 "metadata": {
  "kernelspec": {
   "display_name": "Python 3",
   "language": "python",
   "name": "python3"
  },
  "language_info": {
   "codemirror_mode": {
    "name": "ipython",
    "version": 2
   },
   "file_extension": ".py",
   "mimetype": "text/x-python",
   "name": "python",
   "nbconvert_exporter": "python",
   "pygments_lexer": "ipython2",
   "version": "2.7.6"
  }
 },
 "nbformat": 4,
 "nbformat_minor": 5
}
